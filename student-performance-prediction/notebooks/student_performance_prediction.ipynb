{
 "cells": [
  {
   "cell_type": "markdown",
   "id": "f7ab4238",
   "metadata": {},
   "source": [
    "# 🎓 Student Performance Prediction (Enhanced Visuals)\n",
    "Predict student math scores using multiple regression models with evaluation and visualization.\n",
    "Includes model comparison, residual analysis, and feature importance plots."
   ]
  },
  {
   "cell_type": "code",
   "execution_count": null,
   "id": "c4939cd5",
   "metadata": {},
   "outputs": [],
   "source": [
    "import os\n",
    "import numpy as np\n",
    "import pandas as pd\n",
    "import seaborn as sns\n",
    "import matplotlib.pyplot as plt\n",
    "from sklearn.model_selection import train_test_split\n",
    "from sklearn.preprocessing import OrdinalEncoder, OneHotEncoder\n",
    "from sklearn.metrics import mean_squared_error, mean_absolute_error\n",
    "from sklearn.linear_model import LinearRegression, Ridge, Lasso\n",
    "from sklearn.neighbors import KNeighborsRegressor\n",
    "from sklearn.ensemble import RandomForestRegressor\n",
    "from sklearn import tree\n",
    "import warnings\n",
    "warnings.filterwarnings('ignore')"
   ]
  },
  {
   "cell_type": "code",
   "execution_count": null,
   "id": "e609b450",
   "metadata": {},
   "outputs": [],
   "source": [
    "data_path = os.path.join('..', 'data', 'c9a4f67d-125f-415a-b439-52a37bbd7c2f.csv')\n",
    "df = pd.read_csv(data_path)\n",
    "df.head()"
   ]
  },
  {
   "cell_type": "code",
   "execution_count": null,
   "id": "a05c92de",
   "metadata": {},
   "outputs": [],
   "source": [
    "ordinal_cols = ['parental level of education', 'lunch', 'test preparation course']\n",
    "categories = [['some college','some high school', 'high school', \"associate's degree\", \"bachelor's degree\", \"master's degree\"],\n",
    "             ['free/reduced', 'standard'],\n",
    "             ['none', 'completed']]\n",
    "enc_ord = OrdinalEncoder(categories=categories)\n",
    "df[ordinal_cols] = enc_ord.fit_transform(df[ordinal_cols])\n",
    "enc_oh = OneHotEncoder(sparse_output=False)\n",
    "encoded = enc_oh.fit_transform(df[['gender', 'race/ethnicity']])\n",
    "df[enc_oh.get_feature_names_out()] = encoded\n",
    "df.drop(columns=['gender','race/ethnicity'], inplace=True)"
   ]
  },
  {
   "cell_type": "code",
   "execution_count": null,
   "id": "74fba92e",
   "metadata": {},
   "outputs": [],
   "source": [
    "y = df['math score']\n",
    "X = df.drop(['math score','reading score','writing score'], axis=1)\n",
    "X_train, X_test, y_train, y_test = train_test_split(X, y, test_size=0.2, random_state=42)"
   ]
  },
  {
   "cell_type": "code",
   "execution_count": null,
   "id": "54dacc58",
   "metadata": {},
   "outputs": [],
   "source": [
    "models = {\n",
    "    'Linear Regression': LinearRegression(),\n",
    "    'Ridge Regression': Ridge(alpha=0.1),\n",
    "    'Lasso Regression': Lasso(alpha=0.1),\n",
    "    'Decision Tree': tree.DecisionTreeRegressor(),\n",
    "    'Random Forest': RandomForestRegressor(random_state=42),\n",
    "    'KNN': KNeighborsRegressor(n_neighbors=5)\n",
    "}\n",
    "\n",
    "results = {}\n",
    "predictions = {}\n",
    "for name, model in models.items():\n",
    "    model.fit(X_train, y_train)\n",
    "    preds = model.predict(X_test)\n",
    "    predictions[name] = preds\n",
    "    mse = mean_squared_error(y_test, preds)\n",
    "    mae = mean_absolute_error(y_test, preds)\n",
    "    results[name] = {'MSE': mse, 'MAE': mae}\n",
    "\n",
    "results_df = pd.DataFrame(results).T.sort_values('MSE')\n",
    "results_df"
   ]
  },
  {
   "cell_type": "code",
   "execution_count": null,
   "id": "e0fe36e9",
   "metadata": {},
   "outputs": [],
   "source": [
    "results_df.plot(kind='bar', figsize=(10,5))\n",
    "plt.title('Model Comparison: MSE & MAE')\n",
    "plt.ylabel('Error')\n",
    "plt.xticks(rotation=45)\n",
    "plt.grid(axis='y')\n",
    "plt.tight_layout()\n",
    "plt.show()"
   ]
  },
  {
   "cell_type": "code",
   "execution_count": null,
   "id": "c71f2f3f",
   "metadata": {},
   "outputs": [],
   "source": [
    "model = LinearRegression()\n",
    "model.fit(X_train, y_train)\n",
    "y_pred = model.predict(X_test)\n",
    "\n",
    "plt.figure(figsize=(8,6))\n",
    "plt.scatter(y_test, y_pred, alpha=0.7)\n",
    "plt.plot([y.min(), y.max()], [y.min(), y.max()], '--r')\n",
    "plt.xlabel('Actual')\n",
    "plt.ylabel('Predicted')\n",
    "plt.title('Predicted vs Actual (Linear Regression)')\n",
    "plt.grid(True)\n",
    "plt.tight_layout()\n",
    "plt.show()"
   ]
  },
  {
   "cell_type": "code",
   "execution_count": null,
   "id": "11605a02",
   "metadata": {},
   "outputs": [],
   "source": [
    "residuals = y_test - y_pred\n",
    "plt.figure(figsize=(8,6))\n",
    "sns.histplot(residuals, kde=True)\n",
    "plt.title('Residual Distribution')\n",
    "plt.xlabel('Residuals')\n",
    "plt.grid(True)\n",
    "plt.tight_layout()\n",
    "plt.show()"
   ]
  },
  {
   "cell_type": "code",
   "execution_count": null,
   "id": "9c269898",
   "metadata": {},
   "outputs": [],
   "source": [
    "rf = RandomForestRegressor(random_state=42)\n",
    "rf.fit(X_train, y_train)\n",
    "importances = pd.Series(rf.feature_importances_, index=X.columns)\n",
    "importances.sort_values().plot(kind='barh', figsize=(8,6))\n",
    "plt.title('Feature Importance (Random Forest)')\n",
    "plt.xlabel('Importance Score')\n",
    "plt.grid(True)\n",
    "plt.tight_layout()\n",
    "plt.show()"
   ]
  }
 ],
 "metadata": {},
 "nbformat": 4,
 "nbformat_minor": 5
}