{
 "cells": [
  {
   "cell_type": "markdown",
   "id": "6b1c0035",
   "metadata": {},
   "source": [
    "# 🧠 Student Risk Prediction + Tableau Export Notebook"
   ]
  },
  {
   "cell_type": "code",
   "execution_count": null,
   "id": "d9b57cb6",
   "metadata": {},
   "outputs": [],
   "source": [
    "\n",
    "# Student Risk Prediction + Tableau Export\n",
    "import pandas as pd\n",
    "import numpy as np\n",
    "from sklearn.model_selection import train_test_split\n",
    "from sklearn.preprocessing import OrdinalEncoder, OneHotEncoder, StandardScaler\n",
    "from sklearn.ensemble import RandomForestClassifier\n",
    "from sklearn.metrics import accuracy_score, f1_score\n",
    "\n",
    "# Load raw dataset\n",
    "df = pd.read_csv(\"../data/exams.csv\")\n",
    "\n",
    "# Simulate attendance rate\n",
    "np.random.seed(42)\n",
    "df[\"attendance_rate\"] = np.round(np.random.uniform(0.6, 1.0, len(df)), 2)\n",
    "\n",
    "# Encode ordinal features\n",
    "ordinal_cols = [\"parental level of education\", \"lunch\", \"test preparation course\"]\n",
    "ord_map = OrdinalEncoder()\n",
    "df[ordinal_cols] = ord_map.fit_transform(df[ordinal_cols])\n",
    "\n",
    "# One-hot encode gender and race\n",
    "gender_oh = pd.get_dummies(df[\"gender\"], prefix=\"gender\")\n",
    "race_oh = pd.get_dummies(df[\"race/ethnicity\"], prefix=\"race\")\n",
    "df = pd.concat([df.drop([\"gender\", \"race/ethnicity\"], axis=1), gender_oh, race_oh], axis=1)\n",
    "\n",
    "# Define 'at_risk' label: any score < 60\n",
    "df[\"at_risk\"] = ((df[\"math score\"] < 60) | \n",
    "                 (df[\"reading score\"] < 60) | \n",
    "                 (df[\"writing score\"] < 60)).astype(int)\n",
    "\n",
    "# Save a copy for Tableau\n",
    "df.to_csv(\"../tableau_dataset.csv\", index=False)\n",
    "print(\"✅ Exported tableau_dataset.csv\")\n",
    "\n",
    "# Optional: Train/test split for modeling (you can comment out if not needed)\n",
    "X = df.drop(\"at_risk\", axis=1)\n",
    "y = df[\"at_risk\"]\n",
    "X_train, X_test, y_train, y_test = train_test_split(X, y, stratify=y, test_size=0.2, random_state=42)\n",
    "\n",
    "# Scale and model\n",
    "scaler = StandardScaler()\n",
    "X_train_scaled = scaler.fit_transform(X_train)\n",
    "X_test_scaled = scaler.transform(X_test)\n",
    "\n",
    "model = RandomForestClassifier()\n",
    "model.fit(X_train_scaled, y_train)\n",
    "y_pred = model.predict(X_test_scaled)\n",
    "\n",
    "acc = accuracy_score(y_test, y_pred)\n",
    "f1 = f1_score(y_test, y_pred)\n",
    "print(f\"✅ Accuracy: {acc:.2f}, F1 Score: {f1:.2f}\")\n"
   ]
  }
 ],
 "metadata": {
  "kernelspec": {
   "display_name": "Python 3 (ipykernel)",
   "language": "python",
   "name": "python3"
  },
  "language_info": {
   "codemirror_mode": {
    "name": "ipython",
    "version": 3
   },
   "file_extension": ".py",
   "mimetype": "text/x-python",
   "name": "python",
   "nbconvert_exporter": "python",
   "pygments_lexer": "ipython3",
   "version": "3.12.2"
  }
 },
 "nbformat": 4,
 "nbformat_minor": 5
}
